{
 "cells": [
  {
   "cell_type": "code",
   "execution_count": 4,
   "id": "05de14c4",
   "metadata": {},
   "outputs": [],
   "source": [
    "import numpy as np\n",
    "import pandas as pd\n",
    "import datetime as dt\n",
    "import matplotlib.pyplot as plt\n",
    "import seaborn as sns\n",
    "import re\n",
    "import scipy.stats as stats"
   ]
  },
  {
   "cell_type": "code",
   "execution_count": 5,
   "id": "9c39c6e3",
   "metadata": {},
   "outputs": [
    {
     "name": "stdout",
     "output_type": "stream",
     "text": [
      "C:\\Users\\DELL\\Downloads\\Basic Statistics - Hypothesis Testing\n"
     ]
    }
   ],
   "source": [
    "%cd C:\\Users\\DELL\\Downloads\\Basic Statistics - Hypothesis Testing"
   ]
  },
  {
   "cell_type": "code",
   "execution_count": 6,
   "id": "add227f2",
   "metadata": {},
   "outputs": [],
   "source": [
    "loan=pd.read_csv(\"LoansData.csv\")\n",
    "treatment=pd.read_csv(\"Treatment_Facility.csv\")\n",
    "priority_assessment=pd.read_csv(\"Priority_Assessment.csv\")\n",
    "price=pd.read_csv(\"Price_Quotes.csv\")\n",
    "films=pd.read_csv(\"Films.csv\")"
   ]
  },
  {
   "cell_type": "code",
   "execution_count": 7,
   "id": "1f014acc",
   "metadata": {},
   "outputs": [],
   "source": [
    "loan[\"Debt_To_Income_Ratio\"]=loan[\"Debt_To_Income_Ratio\"].str.replace(\"%\",\"\").astype(float)\n",
    "loan[\"Fico_avg\"]=(pd.to_numeric(loan.FICO_Range.str.split('-', expand=True)[0]) + pd.to_numeric(loan.FICO_Range.str.split('-', expand=True)[1]))/2"
   ]
  },
  {
   "cell_type": "code",
   "execution_count": 8,
   "id": "ffd8861a",
   "metadata": {},
   "outputs": [],
   "source": [
    "loan[\"Interest_Rate\"]=loan[\"Interest_Rate\"].str.replace(\"%\",\"\").astype(float)"
   ]
  },
  {
   "cell_type": "code",
   "execution_count": 9,
   "id": "40b5190f",
   "metadata": {},
   "outputs": [],
   "source": [
    "def missing_treat(x):\n",
    "    if ((x.dtype=='float') or (x.dtype=='int')):\n",
    "        x = x.fillna(x.median())\n",
    "    elif x.dtype == 'object':\n",
    "        x = x.fillna(x.mode()[0])\n",
    "    else:\n",
    "        x\n",
    "    return(x)"
   ]
  },
  {
   "cell_type": "code",
   "execution_count": 10,
   "id": "72061b45",
   "metadata": {},
   "outputs": [],
   "source": [
    "loan=loan.apply(missing_treat)"
   ]
  },
  {
   "cell_type": "code",
   "execution_count": 12,
   "id": "58d59a02",
   "metadata": {},
   "outputs": [
    {
     "data": {
      "text/plain": [
       "array(['MORTGAGE', 'RENT', 'OWN', 'OTHER', 'NONE'], dtype=object)"
      ]
     },
     "execution_count": 12,
     "metadata": {},
     "output_type": "execute_result"
    }
   ],
   "source": [
    "loan.Home_Ownership.unique()"
   ]
  },
  {
   "cell_type": "markdown",
   "id": "39885bff",
   "metadata": {},
   "source": [
    "# BUSINESS PROBLEM-1"
   ]
  },
  {
   "cell_type": "markdown",
   "id": "873d77f4",
   "metadata": {},
   "source": [
    "### a. Intrest rate is varied for different loan amounts (Less intrest charged for high loan amounts)"
   ]
  },
  {
   "cell_type": "markdown",
   "id": "86132634",
   "metadata": {},
   "source": [
    "### stage:1\n",
    "Null Hypothesis,H0 : There is no significant relationship between Interest rate and Loan Amounts\n",
    "\n",
    "Alternative Hypothesis,H1 : There is significant relationship between Interest rate and Loan Amounts"
   ]
  },
  {
   "cell_type": "code",
   "execution_count": 11,
   "id": "488a6179",
   "metadata": {},
   "outputs": [
    {
     "data": {
      "text/plain": [
       "(0.33244017434012263, 1.4231505725301343e-65)"
      ]
     },
     "execution_count": 11,
     "metadata": {},
     "output_type": "execute_result"
    }
   ],
   "source": [
    "stats.pearsonr(loan.Amount_Requested,loan.Interest_Rate)"
   ]
  },
  {
   "cell_type": "code",
   "execution_count": null,
   "id": "eb9b0bcf",
   "metadata": {},
   "outputs": [],
   "source": []
  },
  {
   "cell_type": "markdown",
   "id": "13f1cac8",
   "metadata": {},
   "source": [
    "#### stage 4 - conclusion\n",
    "As pvalue is less than 0.05 and r value is positive ,we can reject H0 and accept H1,therefore Interest Rate varies directly with different Loan Amounts."
   ]
  },
  {
   "cell_type": "markdown",
   "id": "8d572bc2",
   "metadata": {},
   "source": [
    "## b. Loan length is directly effecting intrest rate."
   ]
  },
  {
   "cell_type": "markdown",
   "id": "d5fc4a76",
   "metadata": {},
   "source": [
    "stage:1\n",
    "\n",
    "Null Hypothesis,H0  : month_36.Interest_Rate == month_60.Interest_Rate\n",
    "\n",
    "Alternative Hypothesis,H1 : month_36.Interest_Rate <> month_60.Interest_Rate"
   ]
  },
  {
   "cell_type": "code",
   "execution_count": 12,
   "id": "9cf7b609",
   "metadata": {},
   "outputs": [
    {
     "data": {
      "text/plain": [
       "F_onewayResult(statistic=548.0367191411436, pvalue=9.605991607837365e-110)"
      ]
     },
     "execution_count": 12,
     "metadata": {},
     "output_type": "execute_result"
    }
   ],
   "source": [
    "month_36=loan[loan.Loan_Length==\"36 months\"]\n",
    "month_60=loan[loan.Loan_Length==\"60 months\"]\n",
    "stats.f_oneway(month_36.Interest_Rate,month_60.Interest_Rate)"
   ]
  },
  {
   "cell_type": "code",
   "execution_count": 33,
   "id": "f95fed6f",
   "metadata": {},
   "outputs": [
    {
     "data": {
      "text/html": [
       "<div>\n",
       "<style scoped>\n",
       "    .dataframe tbody tr th:only-of-type {\n",
       "        vertical-align: middle;\n",
       "    }\n",
       "\n",
       "    .dataframe tbody tr th {\n",
       "        vertical-align: top;\n",
       "    }\n",
       "\n",
       "    .dataframe thead th {\n",
       "        text-align: right;\n",
       "    }\n",
       "</style>\n",
       "<table border=\"1\" class=\"dataframe\">\n",
       "  <thead>\n",
       "    <tr style=\"text-align: right;\">\n",
       "      <th></th>\n",
       "      <th>_rowstate_</th>\n",
       "      <th>Movie</th>\n",
       "      <th>Gender</th>\n",
       "      <th>Marital_Status</th>\n",
       "      <th>Sinage</th>\n",
       "      <th>Parking</th>\n",
       "      <th>Clean</th>\n",
       "      <th>Overall</th>\n",
       "      <th>Age</th>\n",
       "      <th>Income</th>\n",
       "      <th>Hear_About</th>\n",
       "    </tr>\n",
       "  </thead>\n",
       "  <tbody>\n",
       "    <tr>\n",
       "      <th>0</th>\n",
       "      <td>0</td>\n",
       "      <td>Ferris Buellers Day Off</td>\n",
       "      <td>2</td>\n",
       "      <td>2</td>\n",
       "      <td>2.0</td>\n",
       "      <td>2.0</td>\n",
       "      <td>2.0</td>\n",
       "      <td>2.0</td>\n",
       "      <td>3.0</td>\n",
       "      <td>1.0</td>\n",
       "      <td>5</td>\n",
       "    </tr>\n",
       "    <tr>\n",
       "      <th>1</th>\n",
       "      <td>0</td>\n",
       "      <td>Ferris Buellers Day Off</td>\n",
       "      <td>2</td>\n",
       "      <td>1</td>\n",
       "      <td>1.0</td>\n",
       "      <td>1.0</td>\n",
       "      <td>1.0</td>\n",
       "      <td>1.0</td>\n",
       "      <td>2.0</td>\n",
       "      <td>1.0</td>\n",
       "      <td>5</td>\n",
       "    </tr>\n",
       "    <tr>\n",
       "      <th>2</th>\n",
       "      <td>0</td>\n",
       "      <td>Ferris Buellers Day Off</td>\n",
       "      <td>1</td>\n",
       "      <td>2</td>\n",
       "      <td>2.0</td>\n",
       "      <td>4.0</td>\n",
       "      <td>3.0</td>\n",
       "      <td>2.0</td>\n",
       "      <td>4.0</td>\n",
       "      <td>1.0</td>\n",
       "      <td>5</td>\n",
       "    </tr>\n",
       "    <tr>\n",
       "      <th>3</th>\n",
       "      <td>0</td>\n",
       "      <td>Ferris Buellers Day Off</td>\n",
       "      <td>2</td>\n",
       "      <td>2</td>\n",
       "      <td>1.0</td>\n",
       "      <td>3.0</td>\n",
       "      <td>2.0</td>\n",
       "      <td>2.0</td>\n",
       "      <td>4.0</td>\n",
       "      <td>1.0</td>\n",
       "      <td>5</td>\n",
       "    </tr>\n",
       "    <tr>\n",
       "      <th>4</th>\n",
       "      <td>0</td>\n",
       "      <td>Ferris Buellers Day Off</td>\n",
       "      <td>2</td>\n",
       "      <td>2</td>\n",
       "      <td>1.0</td>\n",
       "      <td>1.0</td>\n",
       "      <td>1.0</td>\n",
       "      <td>1.0</td>\n",
       "      <td>3.0</td>\n",
       "      <td>3.0</td>\n",
       "      <td>1</td>\n",
       "    </tr>\n",
       "    <tr>\n",
       "      <th>...</th>\n",
       "      <td>...</td>\n",
       "      <td>...</td>\n",
       "      <td>...</td>\n",
       "      <td>...</td>\n",
       "      <td>...</td>\n",
       "      <td>...</td>\n",
       "      <td>...</td>\n",
       "      <td>...</td>\n",
       "      <td>...</td>\n",
       "      <td>...</td>\n",
       "      <td>...</td>\n",
       "    </tr>\n",
       "    <tr>\n",
       "      <th>325</th>\n",
       "      <td>0</td>\n",
       "      <td>Old School</td>\n",
       "      <td>2</td>\n",
       "      <td>2</td>\n",
       "      <td>1.0</td>\n",
       "      <td>2.0</td>\n",
       "      <td>1.0</td>\n",
       "      <td>1.0</td>\n",
       "      <td>2.0</td>\n",
       "      <td>1.0</td>\n",
       "      <td>1</td>\n",
       "    </tr>\n",
       "    <tr>\n",
       "      <th>326</th>\n",
       "      <td>0</td>\n",
       "      <td>Old School</td>\n",
       "      <td>2</td>\n",
       "      <td>2</td>\n",
       "      <td>2.0</td>\n",
       "      <td>2.0</td>\n",
       "      <td>2.0</td>\n",
       "      <td>2.0</td>\n",
       "      <td>3.0</td>\n",
       "      <td>3.0</td>\n",
       "      <td>5</td>\n",
       "    </tr>\n",
       "    <tr>\n",
       "      <th>327</th>\n",
       "      <td>0</td>\n",
       "      <td>Old School</td>\n",
       "      <td>2</td>\n",
       "      <td>2</td>\n",
       "      <td>2.0</td>\n",
       "      <td>1.0</td>\n",
       "      <td>1.0</td>\n",
       "      <td>2.0</td>\n",
       "      <td>2.0</td>\n",
       "      <td>2.0</td>\n",
       "      <td>5</td>\n",
       "    </tr>\n",
       "    <tr>\n",
       "      <th>328</th>\n",
       "      <td>0</td>\n",
       "      <td>Old School</td>\n",
       "      <td>2</td>\n",
       "      <td>2</td>\n",
       "      <td>1.0</td>\n",
       "      <td>1.0</td>\n",
       "      <td>1.0</td>\n",
       "      <td>1.0</td>\n",
       "      <td>2.0</td>\n",
       "      <td>1.0</td>\n",
       "      <td>3</td>\n",
       "    </tr>\n",
       "    <tr>\n",
       "      <th>329</th>\n",
       "      <td>0</td>\n",
       "      <td>Old School</td>\n",
       "      <td>2</td>\n",
       "      <td>2</td>\n",
       "      <td>2.0</td>\n",
       "      <td>2.0</td>\n",
       "      <td>3.0</td>\n",
       "      <td>1.0</td>\n",
       "      <td>2.0</td>\n",
       "      <td>1.0</td>\n",
       "      <td>5</td>\n",
       "    </tr>\n",
       "  </tbody>\n",
       "</table>\n",
       "<p>330 rows × 11 columns</p>\n",
       "</div>"
      ],
      "text/plain": [
       "     _rowstate_                    Movie  Gender  Marital_Status  Sinage  \\\n",
       "0             0  Ferris Buellers Day Off       2               2     2.0   \n",
       "1             0  Ferris Buellers Day Off       2               1     1.0   \n",
       "2             0  Ferris Buellers Day Off       1               2     2.0   \n",
       "3             0  Ferris Buellers Day Off       2               2     1.0   \n",
       "4             0  Ferris Buellers Day Off       2               2     1.0   \n",
       "..          ...                      ...     ...             ...     ...   \n",
       "325           0               Old School       2               2     1.0   \n",
       "326           0               Old School       2               2     2.0   \n",
       "327           0               Old School       2               2     2.0   \n",
       "328           0               Old School       2               2     1.0   \n",
       "329           0               Old School       2               2     2.0   \n",
       "\n",
       "     Parking  Clean  Overall  Age  Income Hear_About  \n",
       "0        2.0    2.0      2.0  3.0     1.0          5  \n",
       "1        1.0    1.0      1.0  2.0     1.0          5  \n",
       "2        4.0    3.0      2.0  4.0     1.0          5  \n",
       "3        3.0    2.0      2.0  4.0     1.0          5  \n",
       "4        1.0    1.0      1.0  3.0     3.0          1  \n",
       "..       ...    ...      ...  ...     ...        ...  \n",
       "325      2.0    1.0      1.0  2.0     1.0          1  \n",
       "326      2.0    2.0      2.0  3.0     3.0          5  \n",
       "327      1.0    1.0      2.0  2.0     2.0          5  \n",
       "328      1.0    1.0      1.0  2.0     1.0          3  \n",
       "329      2.0    3.0      1.0  2.0     1.0          5  \n",
       "\n",
       "[330 rows x 11 columns]"
      ]
     },
     "execution_count": 33,
     "metadata": {},
     "output_type": "execute_result"
    }
   ],
   "source": [
    "films"
   ]
  },
  {
   "cell_type": "markdown",
   "id": "2c26f1b2",
   "metadata": {},
   "source": [
    "conclusion-  As there is effect in intrest rate on changing the loan length,we reject the null hypothesis"
   ]
  },
  {
   "cell_type": "markdown",
   "id": "24eb902c",
   "metadata": {},
   "source": [
    "## c. Intrest rate varies for different purpose of loans"
   ]
  },
  {
   "cell_type": "markdown",
   "id": "c6c09077",
   "metadata": {},
   "source": [
    "#### stage:1\n",
    "Null Hypothesis,H0 : Interest rate does not vary with loan purpose.\n",
    "\n",
    "Alternative Hypothesis,H1 :Interest rate varies with loan purpose."
   ]
  },
  {
   "cell_type": "code",
   "execution_count": 13,
   "id": "5f02fb79",
   "metadata": {},
   "outputs": [],
   "source": [
    "dc=loan.Interest_Rate[loan.Loan_Purpose=='debt_consolidation']\n",
    "cc=loan.Interest_Rate[loan.Loan_Purpose=='credit_card']\n",
    "oth=loan.Interest_Rate[loan.Loan_Purpose=='other']       \n",
    "mov=loan.Interest_Rate[loan.Loan_Purpose=='moving']\n",
    "car=loan.Interest_Rate[loan.Loan_Purpose=='car']\n",
    "vaca=loan.Interest_Rate[loan.Loan_Purpose=='vacation']\n",
    "home_im=loan.Interest_Rate[loan.Loan_Purpose=='home_improvement']\n",
    "house=loan.Interest_Rate[loan.Loan_Purpose=='house']\n",
    "ma_pu=loan.Interest_Rate[loan.Loan_Purpose=='major_purchase']\n",
    "edu=loan.Interest_Rate[loan.Loan_Purpose=='educational']\n",
    "medi=loan.Interest_Rate[loan.Loan_Purpose=='medical']\n",
    "weddin=loan.Interest_Rate[loan.Loan_Purpose=='wedding']\n",
    "small_bus=loan.Interest_Rate[loan.Loan_Purpose=='small_business']"
   ]
  },
  {
   "cell_type": "code",
   "execution_count": 14,
   "id": "cbf8af6a",
   "metadata": {},
   "outputs": [
    {
     "data": {
      "text/plain": [
       "F_onewayResult(statistic=7.901182879604524, pvalue=1.1636926239581812e-14)"
      ]
     },
     "execution_count": 14,
     "metadata": {},
     "output_type": "execute_result"
    }
   ],
   "source": [
    "stats.f_oneway(dc,cc,oth,mov,car,vaca,home_im,house,ma_pu,edu,medi,weddin,small_bus)"
   ]
  },
  {
   "cell_type": "markdown",
   "id": "ad7819be",
   "metadata": {},
   "source": [
    "as p value is less than 0.05, we reject the null hypothesis, there is effect in intrest rate"
   ]
  },
  {
   "cell_type": "markdown",
   "id": "35d66b97",
   "metadata": {},
   "source": [
    "## d. There is relationship between FICO scores and Home Ownership. It means that, People with owning home will have high FICO scores."
   ]
  },
  {
   "cell_type": "markdown",
   "id": "c940a2cc",
   "metadata": {},
   "source": [
    "#### stage:1\n",
    "Null Hypothesis,H0 : There is no significant relationship between FICO Scores and Home Ownership.\n",
    "\n",
    "Alternative Hypothesis,H1 :There is a significant relationship between FICO Scores and Home Ownership."
   ]
  },
  {
   "cell_type": "code",
   "execution_count": 15,
   "id": "5859ace1",
   "metadata": {},
   "outputs": [],
   "source": [
    "a=loan.Fico_avg[loan.Home_Ownership==\"MORTGAGE\"]\n",
    "b=loan.Fico_avg[loan.Home_Ownership==\"RENT\"]\n",
    "c=loan.Fico_avg[loan.Home_Ownership==\"OWN\"]\n",
    "d=loan.Fico_avg[loan.Home_Ownership==\"OTHER\"]\n",
    "e=loan.Fico_avg[loan.Home_Ownership==\"NONE\"]\n",
    "\n"
   ]
  },
  {
   "cell_type": "code",
   "execution_count": 16,
   "id": "e6517845",
   "metadata": {},
   "outputs": [
    {
     "data": {
      "text/plain": [
       "F_onewayResult(statistic=19.345822938089942, pvalue=1.0902432079019346e-15)"
      ]
     },
     "execution_count": 16,
     "metadata": {},
     "output_type": "execute_result"
    }
   ],
   "source": [
    "stats.f_oneway(a,b,c,d,e)"
   ]
  },
  {
   "cell_type": "markdown",
   "id": "e7a41b44",
   "metadata": {},
   "source": [
    " conclusion - as p value is less than 0.05, we reject the null hypothesis, there is relation between fico score and home ownership"
   ]
  },
  {
   "cell_type": "markdown",
   "id": "9bf451e1",
   "metadata": {},
   "source": [
    "# BUSINESS PROBLEM - 2"
   ]
  },
  {
   "cell_type": "markdown",
   "id": "478f621d",
   "metadata": {},
   "source": [
    "### BUSINESS PROBLEM: We would like to assess if there is any difference in the average price quotes provided by Mary and Barry."
   ]
  },
  {
   "cell_type": "markdown",
   "id": "4b87b65e",
   "metadata": {},
   "source": [
    "#### stage:1\n",
    " HO : average of mary == average of barry\n",
    " \n",
    " H1 : average of mary <> average of barry"
   ]
  },
  {
   "cell_type": "code",
   "execution_count": 18,
   "id": "d326da48",
   "metadata": {},
   "outputs": [
    {
     "data": {
      "text/plain": [
       "Ttest_indResult(statistic=-1.4147436739281787, pvalue=0.17114226132118285)"
      ]
     },
     "execution_count": 18,
     "metadata": {},
     "output_type": "execute_result"
    }
   ],
   "source": [
    "stats.ttest_ind(price.Mary_Price,price.Barry_Price)"
   ]
  },
  {
   "cell_type": "markdown",
   "id": "ce70e200",
   "metadata": {},
   "source": [
    "#### stage 4 conclusion - We failed to recjected null hypothesis,there is a no difference between price quotes"
   ]
  },
  {
   "cell_type": "markdown",
   "id": "ff37bc9b",
   "metadata": {},
   "source": [
    "# BUSINESS PROBLEM-3"
   ]
  },
  {
   "cell_type": "markdown",
   "id": "38f1f028",
   "metadata": {},
   "source": [
    "## BUSINESS PROBLEM: Determine what effect, if any, the reengineering effort had on the incidence behavioral problems and staff turnover. i.e To determine if the reengineering effort changed the critical incidence rate. Is there evidence that the critical incidence rate improved?"
   ]
  },
  {
   "cell_type": "markdown",
   "id": "d35b854b",
   "metadata": {},
   "source": [
    "#### stage:1\n",
    "## Defining Parameters\n",
    "Null Hypothesis,H0 : There is no effect of Reengineering on Critical Incidence Rate.\n",
    "\n",
    "Alternative Hypothesis,H1 :There is an effect of Reengineering on Critical Incidence Rate."
   ]
  },
  {
   "cell_type": "code",
   "execution_count": 25,
   "id": "f7fc1321",
   "metadata": {},
   "outputs": [],
   "source": [
    "prior=treatment.CI[treatment.Reengineer=='Prior']\n",
    "post=treatment.CI[treatment.Reengineer=='Post']"
   ]
  },
  {
   "cell_type": "code",
   "execution_count": 23,
   "id": "54fb21c5",
   "metadata": {},
   "outputs": [],
   "source": [
    "treatment.rename(columns={'VAR4':'TRFF','VAR5':'CI'},inplace=True)"
   ]
  },
  {
   "cell_type": "code",
   "execution_count": 27,
   "id": "29186ad9",
   "metadata": {},
   "outputs": [
    {
     "data": {
      "text/plain": [
       "F_onewayResult(statistic=2.650105376271948, pvalue=0.12091989189884142)"
      ]
     },
     "execution_count": 27,
     "metadata": {},
     "output_type": "execute_result"
    }
   ],
   "source": [
    "stats.f_oneway(prior,post)"
   ]
  },
  {
   "cell_type": "markdown",
   "id": "2ad25448",
   "metadata": {},
   "source": [
    "Since pvalue is greater than 0.05 ,we cannot reject H0 , ie, there is no effect of Reengineering on Critical Incidence Rate(CI). The CI could not be improved by the Reengineering efforts."
   ]
  },
  {
   "cell_type": "markdown",
   "id": "7e2cedb7",
   "metadata": {},
   "source": []
  },
  {
   "cell_type": "code",
   "execution_count": null,
   "id": "4db7dad5",
   "metadata": {},
   "outputs": [],
   "source": [
    "\n"
   ]
  },
  {
   "cell_type": "markdown",
   "id": "d4cc372a",
   "metadata": {},
   "source": [
    "\n"
   ]
  },
  {
   "cell_type": "markdown",
   "id": "58c5f613",
   "metadata": {},
   "source": [
    "# BUSINESS PROBLEM-4"
   ]
  },
  {
   "cell_type": "markdown",
   "id": "f11f926f",
   "metadata": {},
   "source": [
    "### BUSINESS PROBLEM: We will focus on the prioritization system. If the system is working, then high priority jobs, on average, should be completed more quickly than medium priority jobs, and medium priority jobs should be completed more quickly than low priority jobs. Use the data provided to determine whether this is, in fact, occurring."
   ]
  },
  {
   "cell_type": "markdown",
   "id": "45b76416",
   "metadata": {},
   "source": [
    "\n",
    "## Defining Parameters\n",
    "Null Hypothesis,H0 : Work is not completed as per the priority scale.\n",
    "\n",
    "Alternative Hypothesis,Ha :Work is completed as per the priority scale."
   ]
  },
  {
   "cell_type": "code",
   "execution_count": 28,
   "id": "1ce0f0e5",
   "metadata": {},
   "outputs": [
    {
     "data": {
      "text/plain": [
       "F_onewayResult(statistic=1.812311010076072, pvalue=0.16411459461716182)"
      ]
     },
     "execution_count": 28,
     "metadata": {},
     "output_type": "execute_result"
    }
   ],
   "source": [
    "high=priority_assessment[priority_assessment.Priority==\"High\"]\n",
    "medium=priority_assessment[priority_assessment.Priority==\"Medium\"]\n",
    "low=priority_assessment[priority_assessment.Priority==\"Low\"]\n",
    "stats.f_oneway(high.Days,medium.Days,low.Days)"
   ]
  },
  {
   "cell_type": "markdown",
   "id": "44e77285",
   "metadata": {},
   "source": [
    " stage 4 conclusion - we failed to reject the null hypothesis,there no change in with respect to priority"
   ]
  },
  {
   "cell_type": "markdown",
   "id": "780c761d",
   "metadata": {},
   "source": [
    "# BUSINESS PROBLEM-5"
   ]
  },
  {
   "cell_type": "markdown",
   "id": "38bc1b9b",
   "metadata": {},
   "source": [
    "## a.What is the overall level of customer satisfaction?"
   ]
  },
  {
   "cell_type": "markdown",
   "id": "c49e92a8",
   "metadata": {},
   "source": [
    "#### stage:1\n",
    "#### HO : customer satisfaction == 5\n",
    "#### H1 : customer satisfaction <> 5\n",
    "\n"
   ]
  },
  {
   "cell_type": "code",
   "execution_count": 42,
   "id": "19ab61b2",
   "metadata": {},
   "outputs": [],
   "source": [
    "films=films.apply(missing_treat)"
   ]
  },
  {
   "cell_type": "code",
   "execution_count": 43,
   "id": "04121990",
   "metadata": {},
   "outputs": [
    {
     "data": {
      "text/plain": [
       "Ttest_1sampResult(statistic=-89.23581000259827, pvalue=1.290517734123711e-232)"
      ]
     },
     "execution_count": 43,
     "metadata": {},
     "output_type": "execute_result"
    }
   ],
   "source": [
    "stats.ttest_1samp(films.Overall,5)"
   ]
  },
  {
   "cell_type": "code",
   "execution_count": 27,
   "id": "c62a59ea",
   "metadata": {},
   "outputs": [
    {
     "data": {
      "text/plain": [
       "1.621212121212121"
      ]
     },
     "execution_count": 27,
     "metadata": {},
     "output_type": "execute_result"
    }
   ],
   "source": [
    "films[\"Overall\"].mean()"
   ]
  },
  {
   "cell_type": "markdown",
   "id": "6298110c",
   "metadata": {},
   "source": [
    "#### stage 4 conclusion - we reject the null hypothesis,we can say that customer satisfaction is different from 5"
   ]
  },
  {
   "cell_type": "code",
   "execution_count": null,
   "id": "bbdfc9b9",
   "metadata": {},
   "outputs": [],
   "source": []
  },
  {
   "cell_type": "markdown",
   "id": "5a760cf1",
   "metadata": {},
   "source": [
    "## b.What factors are linked to satisfaction?"
   ]
  },
  {
   "cell_type": "markdown",
   "id": "ac05bd3d",
   "metadata": {},
   "source": [
    "## Checking factors' relation with Satisfaction"
   ]
  },
  {
   "cell_type": "code",
   "execution_count": null,
   "id": "fb2cc741",
   "metadata": {},
   "outputs": [],
   "source": []
  },
  {
   "cell_type": "markdown",
   "id": "b2f2a541",
   "metadata": {},
   "source": []
  },
  {
   "cell_type": "code",
   "execution_count": null,
   "id": "fc66cfa3",
   "metadata": {},
   "outputs": [],
   "source": []
  },
  {
   "cell_type": "code",
   "execution_count": 44,
   "id": "1483f830",
   "metadata": {},
   "outputs": [
    {
     "data": {
      "text/plain": [
       "(0.3821028042239567, 6.501065434766499e-13)"
      ]
     },
     "execution_count": 44,
     "metadata": {},
     "output_type": "execute_result"
    }
   ],
   "source": [
    "stats.pearsonr(films.Sinage,films.Overall)\n"
   ]
  },
  {
   "cell_type": "markdown",
   "id": "e60e8953",
   "metadata": {},
   "source": [
    "since p value is less than 0.05,Satisfaction vary with sinage maintenance "
   ]
  },
  {
   "cell_type": "code",
   "execution_count": 45,
   "id": "58437238",
   "metadata": {},
   "outputs": [
    {
     "data": {
      "text/plain": [
       "(0.5144289487855271, 1.0840276087789895e-23)"
      ]
     },
     "execution_count": 45,
     "metadata": {},
     "output_type": "execute_result"
    }
   ],
   "source": [
    "stats.pearsonr(films.Parking,films.Overall)"
   ]
  },
  {
   "cell_type": "markdown",
   "id": "29d9795d",
   "metadata": {},
   "source": [
    "since p value is less than 0.05,Satisfaction vary with parking maintenance"
   ]
  },
  {
   "cell_type": "code",
   "execution_count": 46,
   "id": "758b4ef2",
   "metadata": {},
   "outputs": [
    {
     "data": {
      "text/plain": [
       "(0.35082227890709217, 5.437550007439627e-11)"
      ]
     },
     "execution_count": 46,
     "metadata": {},
     "output_type": "execute_result"
    }
   ],
   "source": [
    "stats.pearsonr(films.Clean,films.Overall)"
   ]
  },
  {
   "cell_type": "markdown",
   "id": "b50c085d",
   "metadata": {},
   "source": [
    "since p value is less than 0.05,Satisfaction vary with cleanliness maintenance "
   ]
  },
  {
   "cell_type": "code",
   "execution_count": 30,
   "id": "3e749594",
   "metadata": {},
   "outputs": [
    {
     "data": {
      "text/html": [
       "<div>\n",
       "<style scoped>\n",
       "    .dataframe tbody tr th:only-of-type {\n",
       "        vertical-align: middle;\n",
       "    }\n",
       "\n",
       "    .dataframe tbody tr th {\n",
       "        vertical-align: top;\n",
       "    }\n",
       "\n",
       "    .dataframe thead th {\n",
       "        text-align: right;\n",
       "    }\n",
       "</style>\n",
       "<table border=\"1\" class=\"dataframe\">\n",
       "  <thead>\n",
       "    <tr style=\"text-align: right;\">\n",
       "      <th></th>\n",
       "      <th>_rowstate_</th>\n",
       "      <th>Movie</th>\n",
       "      <th>Gender</th>\n",
       "      <th>Marital_Status</th>\n",
       "      <th>Sinage</th>\n",
       "      <th>Parking</th>\n",
       "      <th>Clean</th>\n",
       "      <th>Overall</th>\n",
       "      <th>Age</th>\n",
       "      <th>Income</th>\n",
       "      <th>Hear_About</th>\n",
       "    </tr>\n",
       "  </thead>\n",
       "  <tbody>\n",
       "    <tr>\n",
       "      <th>0</th>\n",
       "      <td>0</td>\n",
       "      <td>Ferris Buellers Day Off</td>\n",
       "      <td>2</td>\n",
       "      <td>2</td>\n",
       "      <td>2.0</td>\n",
       "      <td>2.0</td>\n",
       "      <td>2.0</td>\n",
       "      <td>2.0</td>\n",
       "      <td>3.0</td>\n",
       "      <td>1.0</td>\n",
       "      <td>5</td>\n",
       "    </tr>\n",
       "    <tr>\n",
       "      <th>1</th>\n",
       "      <td>0</td>\n",
       "      <td>Ferris Buellers Day Off</td>\n",
       "      <td>2</td>\n",
       "      <td>1</td>\n",
       "      <td>1.0</td>\n",
       "      <td>1.0</td>\n",
       "      <td>1.0</td>\n",
       "      <td>1.0</td>\n",
       "      <td>2.0</td>\n",
       "      <td>1.0</td>\n",
       "      <td>5</td>\n",
       "    </tr>\n",
       "    <tr>\n",
       "      <th>2</th>\n",
       "      <td>0</td>\n",
       "      <td>Ferris Buellers Day Off</td>\n",
       "      <td>1</td>\n",
       "      <td>2</td>\n",
       "      <td>2.0</td>\n",
       "      <td>4.0</td>\n",
       "      <td>3.0</td>\n",
       "      <td>2.0</td>\n",
       "      <td>4.0</td>\n",
       "      <td>1.0</td>\n",
       "      <td>5</td>\n",
       "    </tr>\n",
       "    <tr>\n",
       "      <th>3</th>\n",
       "      <td>0</td>\n",
       "      <td>Ferris Buellers Day Off</td>\n",
       "      <td>2</td>\n",
       "      <td>2</td>\n",
       "      <td>1.0</td>\n",
       "      <td>3.0</td>\n",
       "      <td>2.0</td>\n",
       "      <td>2.0</td>\n",
       "      <td>4.0</td>\n",
       "      <td>1.0</td>\n",
       "      <td>5</td>\n",
       "    </tr>\n",
       "    <tr>\n",
       "      <th>4</th>\n",
       "      <td>0</td>\n",
       "      <td>Ferris Buellers Day Off</td>\n",
       "      <td>2</td>\n",
       "      <td>2</td>\n",
       "      <td>1.0</td>\n",
       "      <td>1.0</td>\n",
       "      <td>1.0</td>\n",
       "      <td>1.0</td>\n",
       "      <td>3.0</td>\n",
       "      <td>3.0</td>\n",
       "      <td>1</td>\n",
       "    </tr>\n",
       "    <tr>\n",
       "      <th>...</th>\n",
       "      <td>...</td>\n",
       "      <td>...</td>\n",
       "      <td>...</td>\n",
       "      <td>...</td>\n",
       "      <td>...</td>\n",
       "      <td>...</td>\n",
       "      <td>...</td>\n",
       "      <td>...</td>\n",
       "      <td>...</td>\n",
       "      <td>...</td>\n",
       "      <td>...</td>\n",
       "    </tr>\n",
       "    <tr>\n",
       "      <th>325</th>\n",
       "      <td>0</td>\n",
       "      <td>Old School</td>\n",
       "      <td>2</td>\n",
       "      <td>2</td>\n",
       "      <td>1.0</td>\n",
       "      <td>2.0</td>\n",
       "      <td>1.0</td>\n",
       "      <td>1.0</td>\n",
       "      <td>2.0</td>\n",
       "      <td>1.0</td>\n",
       "      <td>1</td>\n",
       "    </tr>\n",
       "    <tr>\n",
       "      <th>326</th>\n",
       "      <td>0</td>\n",
       "      <td>Old School</td>\n",
       "      <td>2</td>\n",
       "      <td>2</td>\n",
       "      <td>2.0</td>\n",
       "      <td>2.0</td>\n",
       "      <td>2.0</td>\n",
       "      <td>2.0</td>\n",
       "      <td>3.0</td>\n",
       "      <td>3.0</td>\n",
       "      <td>5</td>\n",
       "    </tr>\n",
       "    <tr>\n",
       "      <th>327</th>\n",
       "      <td>0</td>\n",
       "      <td>Old School</td>\n",
       "      <td>2</td>\n",
       "      <td>2</td>\n",
       "      <td>2.0</td>\n",
       "      <td>1.0</td>\n",
       "      <td>1.0</td>\n",
       "      <td>2.0</td>\n",
       "      <td>2.0</td>\n",
       "      <td>2.0</td>\n",
       "      <td>5</td>\n",
       "    </tr>\n",
       "    <tr>\n",
       "      <th>328</th>\n",
       "      <td>0</td>\n",
       "      <td>Old School</td>\n",
       "      <td>2</td>\n",
       "      <td>2</td>\n",
       "      <td>1.0</td>\n",
       "      <td>1.0</td>\n",
       "      <td>1.0</td>\n",
       "      <td>1.0</td>\n",
       "      <td>2.0</td>\n",
       "      <td>1.0</td>\n",
       "      <td>3</td>\n",
       "    </tr>\n",
       "    <tr>\n",
       "      <th>329</th>\n",
       "      <td>0</td>\n",
       "      <td>Old School</td>\n",
       "      <td>2</td>\n",
       "      <td>2</td>\n",
       "      <td>2.0</td>\n",
       "      <td>2.0</td>\n",
       "      <td>3.0</td>\n",
       "      <td>1.0</td>\n",
       "      <td>2.0</td>\n",
       "      <td>1.0</td>\n",
       "      <td>5</td>\n",
       "    </tr>\n",
       "  </tbody>\n",
       "</table>\n",
       "<p>330 rows × 11 columns</p>\n",
       "</div>"
      ],
      "text/plain": [
       "     _rowstate_                    Movie  Gender  Marital_Status  Sinage  \\\n",
       "0             0  Ferris Buellers Day Off       2               2     2.0   \n",
       "1             0  Ferris Buellers Day Off       2               1     1.0   \n",
       "2             0  Ferris Buellers Day Off       1               2     2.0   \n",
       "3             0  Ferris Buellers Day Off       2               2     1.0   \n",
       "4             0  Ferris Buellers Day Off       2               2     1.0   \n",
       "..          ...                      ...     ...             ...     ...   \n",
       "325           0               Old School       2               2     1.0   \n",
       "326           0               Old School       2               2     2.0   \n",
       "327           0               Old School       2               2     2.0   \n",
       "328           0               Old School       2               2     1.0   \n",
       "329           0               Old School       2               2     2.0   \n",
       "\n",
       "     Parking  Clean  Overall  Age  Income Hear_About  \n",
       "0        2.0    2.0      2.0  3.0     1.0          5  \n",
       "1        1.0    1.0      1.0  2.0     1.0          5  \n",
       "2        4.0    3.0      2.0  4.0     1.0          5  \n",
       "3        3.0    2.0      2.0  4.0     1.0          5  \n",
       "4        1.0    1.0      1.0  3.0     3.0          1  \n",
       "..       ...    ...      ...  ...     ...        ...  \n",
       "325      2.0    1.0      1.0  2.0     1.0          1  \n",
       "326      2.0    2.0      2.0  3.0     3.0          5  \n",
       "327      1.0    1.0      2.0  2.0     2.0          5  \n",
       "328      1.0    1.0      1.0  2.0     1.0          3  \n",
       "329      2.0    3.0      1.0  2.0     1.0          5  \n",
       "\n",
       "[330 rows x 11 columns]"
      ]
     },
     "execution_count": 30,
     "metadata": {},
     "output_type": "execute_result"
    }
   ],
   "source": [
    "films.Gender=np.where(films.Gender=='Male',1,2)\n",
    "films.Marital_Status=np.where(films.Marital_Status=='Single',1,2)\n",
    "films"
   ]
  },
  {
   "cell_type": "code",
   "execution_count": null,
   "id": "b7a1b40b",
   "metadata": {},
   "outputs": [],
   "source": []
  },
  {
   "cell_type": "code",
   "execution_count": null,
   "id": "a0d2521e",
   "metadata": {},
   "outputs": [],
   "source": []
  },
  {
   "cell_type": "code",
   "execution_count": null,
   "id": "ecf597f4",
   "metadata": {},
   "outputs": [],
   "source": []
  },
  {
   "cell_type": "code",
   "execution_count": null,
   "id": "faf1cd8f",
   "metadata": {},
   "outputs": [],
   "source": []
  },
  {
   "cell_type": "markdown",
   "id": "eb9c2ea7",
   "metadata": {},
   "source": []
  },
  {
   "cell_type": "markdown",
   "id": "414c581e",
   "metadata": {},
   "source": [
    "## c.What is the demographic profile of Film on the Rocks patrons?"
   ]
  },
  {
   "cell_type": "code",
   "execution_count": 48,
   "id": "53db893f",
   "metadata": {},
   "outputs": [
    {
     "data": {
      "text/html": [
       "<div>\n",
       "<style scoped>\n",
       "    .dataframe tbody tr th:only-of-type {\n",
       "        vertical-align: middle;\n",
       "    }\n",
       "\n",
       "    .dataframe tbody tr th {\n",
       "        vertical-align: top;\n",
       "    }\n",
       "\n",
       "    .dataframe thead th {\n",
       "        text-align: right;\n",
       "    }\n",
       "</style>\n",
       "<table border=\"1\" class=\"dataframe\">\n",
       "  <thead>\n",
       "    <tr style=\"text-align: right;\">\n",
       "      <th>Income</th>\n",
       "      <th>1.0</th>\n",
       "      <th>2.0</th>\n",
       "      <th>3.0</th>\n",
       "    </tr>\n",
       "    <tr>\n",
       "      <th>Movie</th>\n",
       "      <th></th>\n",
       "      <th></th>\n",
       "      <th></th>\n",
       "    </tr>\n",
       "  </thead>\n",
       "  <tbody>\n",
       "    <tr>\n",
       "      <th>Ferris Buellers Day Off</th>\n",
       "      <td>54</td>\n",
       "      <td>46</td>\n",
       "      <td>37</td>\n",
       "    </tr>\n",
       "    <tr>\n",
       "      <th>Old School</th>\n",
       "      <td>14</td>\n",
       "      <td>7</td>\n",
       "      <td>11</td>\n",
       "    </tr>\n",
       "    <tr>\n",
       "      <th>Willy Wonka</th>\n",
       "      <td>74</td>\n",
       "      <td>45</td>\n",
       "      <td>42</td>\n",
       "    </tr>\n",
       "  </tbody>\n",
       "</table>\n",
       "</div>"
      ],
      "text/plain": [
       "Income                   1.0  2.0  3.0\n",
       "Movie                                 \n",
       "Ferris Buellers Day Off   54   46   37\n",
       "Old School                14    7   11\n",
       "Willy Wonka               74   45   42"
      ]
     },
     "execution_count": 48,
     "metadata": {},
     "output_type": "execute_result"
    }
   ],
   "source": [
    "\n",
    "pd.crosstab(films.Movie,films.Income)"
   ]
  },
  {
   "cell_type": "code",
   "execution_count": 50,
   "id": "d6723aee",
   "metadata": {},
   "outputs": [
    {
     "data": {
      "text/html": [
       "<div>\n",
       "<style scoped>\n",
       "    .dataframe tbody tr th:only-of-type {\n",
       "        vertical-align: middle;\n",
       "    }\n",
       "\n",
       "    .dataframe tbody tr th {\n",
       "        vertical-align: top;\n",
       "    }\n",
       "\n",
       "    .dataframe thead th {\n",
       "        text-align: right;\n",
       "    }\n",
       "</style>\n",
       "<table border=\"1\" class=\"dataframe\">\n",
       "  <thead>\n",
       "    <tr style=\"text-align: right;\">\n",
       "      <th>Age</th>\n",
       "      <th>1.0</th>\n",
       "      <th>2.0</th>\n",
       "      <th>3.0</th>\n",
       "      <th>4.0</th>\n",
       "    </tr>\n",
       "    <tr>\n",
       "      <th>Movie</th>\n",
       "      <th></th>\n",
       "      <th></th>\n",
       "      <th></th>\n",
       "      <th></th>\n",
       "    </tr>\n",
       "  </thead>\n",
       "  <tbody>\n",
       "    <tr>\n",
       "      <th>Ferris Buellers Day Off</th>\n",
       "      <td>12</td>\n",
       "      <td>70</td>\n",
       "      <td>48</td>\n",
       "      <td>7</td>\n",
       "    </tr>\n",
       "    <tr>\n",
       "      <th>Old School</th>\n",
       "      <td>2</td>\n",
       "      <td>20</td>\n",
       "      <td>10</td>\n",
       "      <td>0</td>\n",
       "    </tr>\n",
       "    <tr>\n",
       "      <th>Willy Wonka</th>\n",
       "      <td>12</td>\n",
       "      <td>87</td>\n",
       "      <td>59</td>\n",
       "      <td>3</td>\n",
       "    </tr>\n",
       "  </tbody>\n",
       "</table>\n",
       "</div>"
      ],
      "text/plain": [
       "Age                      1.0  2.0  3.0  4.0\n",
       "Movie                                      \n",
       "Ferris Buellers Day Off   12   70   48    7\n",
       "Old School                 2   20   10    0\n",
       "Willy Wonka               12   87   59    3"
      ]
     },
     "execution_count": 50,
     "metadata": {},
     "output_type": "execute_result"
    }
   ],
   "source": [
    "\n",
    "pd.crosstab(films.Movie,films.Age)"
   ]
  },
  {
   "cell_type": "code",
   "execution_count": 47,
   "id": "2a249872",
   "metadata": {},
   "outputs": [
    {
     "data": {
      "text/html": [
       "<div>\n",
       "<style scoped>\n",
       "    .dataframe tbody tr th:only-of-type {\n",
       "        vertical-align: middle;\n",
       "    }\n",
       "\n",
       "    .dataframe tbody tr th {\n",
       "        vertical-align: top;\n",
       "    }\n",
       "\n",
       "    .dataframe thead th {\n",
       "        text-align: right;\n",
       "    }\n",
       "</style>\n",
       "<table border=\"1\" class=\"dataframe\">\n",
       "  <thead>\n",
       "    <tr style=\"text-align: right;\">\n",
       "      <th>Sinage</th>\n",
       "      <th>1.0</th>\n",
       "      <th>2.0</th>\n",
       "      <th>3.0</th>\n",
       "      <th>4.0</th>\n",
       "      <th>5.0</th>\n",
       "    </tr>\n",
       "    <tr>\n",
       "      <th>Movie</th>\n",
       "      <th></th>\n",
       "      <th></th>\n",
       "      <th></th>\n",
       "      <th></th>\n",
       "      <th></th>\n",
       "    </tr>\n",
       "  </thead>\n",
       "  <tbody>\n",
       "    <tr>\n",
       "      <th>Ferris Buellers Day Off</th>\n",
       "      <td>53</td>\n",
       "      <td>64</td>\n",
       "      <td>19</td>\n",
       "      <td>0</td>\n",
       "      <td>1</td>\n",
       "    </tr>\n",
       "    <tr>\n",
       "      <th>Old School</th>\n",
       "      <td>12</td>\n",
       "      <td>13</td>\n",
       "      <td>4</td>\n",
       "      <td>2</td>\n",
       "      <td>1</td>\n",
       "    </tr>\n",
       "    <tr>\n",
       "      <th>Willy Wonka</th>\n",
       "      <td>48</td>\n",
       "      <td>81</td>\n",
       "      <td>25</td>\n",
       "      <td>4</td>\n",
       "      <td>3</td>\n",
       "    </tr>\n",
       "  </tbody>\n",
       "</table>\n",
       "</div>"
      ],
      "text/plain": [
       "Sinage                   1.0  2.0  3.0  4.0  5.0\n",
       "Movie                                           \n",
       "Ferris Buellers Day Off   53   64   19    0    1\n",
       "Old School                12   13    4    2    1\n",
       "Willy Wonka               48   81   25    4    3"
      ]
     },
     "execution_count": 47,
     "metadata": {},
     "output_type": "execute_result"
    }
   ],
   "source": [
    "pd.crosstab(films.Movie,films.Sinage)"
   ]
  },
  {
   "cell_type": "code",
   "execution_count": 33,
   "id": "6ab2ddab",
   "metadata": {},
   "outputs": [
    {
     "data": {
      "text/html": [
       "<div>\n",
       "<style scoped>\n",
       "    .dataframe tbody tr th:only-of-type {\n",
       "        vertical-align: middle;\n",
       "    }\n",
       "\n",
       "    .dataframe tbody tr th {\n",
       "        vertical-align: top;\n",
       "    }\n",
       "\n",
       "    .dataframe thead th {\n",
       "        text-align: right;\n",
       "    }\n",
       "</style>\n",
       "<table border=\"1\" class=\"dataframe\">\n",
       "  <thead>\n",
       "    <tr style=\"text-align: right;\">\n",
       "      <th>Parking</th>\n",
       "      <th>1.0</th>\n",
       "      <th>2.0</th>\n",
       "      <th>3.0</th>\n",
       "      <th>4.0</th>\n",
       "      <th>5.0</th>\n",
       "    </tr>\n",
       "    <tr>\n",
       "      <th>Movie</th>\n",
       "      <th></th>\n",
       "      <th></th>\n",
       "      <th></th>\n",
       "      <th></th>\n",
       "      <th></th>\n",
       "    </tr>\n",
       "  </thead>\n",
       "  <tbody>\n",
       "    <tr>\n",
       "      <th>Ferris Buellers Day Off</th>\n",
       "      <td>54</td>\n",
       "      <td>66</td>\n",
       "      <td>11</td>\n",
       "      <td>5</td>\n",
       "      <td>1</td>\n",
       "    </tr>\n",
       "    <tr>\n",
       "      <th>Old School</th>\n",
       "      <td>17</td>\n",
       "      <td>11</td>\n",
       "      <td>3</td>\n",
       "      <td>0</td>\n",
       "      <td>1</td>\n",
       "    </tr>\n",
       "    <tr>\n",
       "      <th>Willy Wonka</th>\n",
       "      <td>64</td>\n",
       "      <td>78</td>\n",
       "      <td>15</td>\n",
       "      <td>2</td>\n",
       "      <td>2</td>\n",
       "    </tr>\n",
       "  </tbody>\n",
       "</table>\n",
       "</div>"
      ],
      "text/plain": [
       "Parking                  1.0  2.0  3.0  4.0  5.0\n",
       "Movie                                           \n",
       "Ferris Buellers Day Off   54   66   11    5    1\n",
       "Old School                17   11    3    0    1\n",
       "Willy Wonka               64   78   15    2    2"
      ]
     },
     "execution_count": 33,
     "metadata": {},
     "output_type": "execute_result"
    }
   ],
   "source": [
    "pd.crosstab(films.Movie,films.Parking)"
   ]
  },
  {
   "cell_type": "code",
   "execution_count": 34,
   "id": "febb8a3d",
   "metadata": {},
   "outputs": [
    {
     "data": {
      "text/html": [
       "<div>\n",
       "<style scoped>\n",
       "    .dataframe tbody tr th:only-of-type {\n",
       "        vertical-align: middle;\n",
       "    }\n",
       "\n",
       "    .dataframe tbody tr th {\n",
       "        vertical-align: top;\n",
       "    }\n",
       "\n",
       "    .dataframe thead th {\n",
       "        text-align: right;\n",
       "    }\n",
       "</style>\n",
       "<table border=\"1\" class=\"dataframe\">\n",
       "  <thead>\n",
       "    <tr style=\"text-align: right;\">\n",
       "      <th>Clean</th>\n",
       "      <th>1.0</th>\n",
       "      <th>2.0</th>\n",
       "      <th>3.0</th>\n",
       "      <th>4.0</th>\n",
       "      <th>5.0</th>\n",
       "    </tr>\n",
       "    <tr>\n",
       "      <th>Movie</th>\n",
       "      <th></th>\n",
       "      <th></th>\n",
       "      <th></th>\n",
       "      <th></th>\n",
       "      <th></th>\n",
       "    </tr>\n",
       "  </thead>\n",
       "  <tbody>\n",
       "    <tr>\n",
       "      <th>Ferris Buellers Day Off</th>\n",
       "      <td>61</td>\n",
       "      <td>62</td>\n",
       "      <td>12</td>\n",
       "      <td>2</td>\n",
       "      <td>0</td>\n",
       "    </tr>\n",
       "    <tr>\n",
       "      <th>Old School</th>\n",
       "      <td>12</td>\n",
       "      <td>16</td>\n",
       "      <td>3</td>\n",
       "      <td>0</td>\n",
       "      <td>1</td>\n",
       "    </tr>\n",
       "    <tr>\n",
       "      <th>Willy Wonka</th>\n",
       "      <td>71</td>\n",
       "      <td>77</td>\n",
       "      <td>9</td>\n",
       "      <td>3</td>\n",
       "      <td>1</td>\n",
       "    </tr>\n",
       "  </tbody>\n",
       "</table>\n",
       "</div>"
      ],
      "text/plain": [
       "Clean                    1.0  2.0  3.0  4.0  5.0\n",
       "Movie                                           \n",
       "Ferris Buellers Day Off   61   62   12    2    0\n",
       "Old School                12   16    3    0    1\n",
       "Willy Wonka               71   77    9    3    1"
      ]
     },
     "execution_count": 34,
     "metadata": {},
     "output_type": "execute_result"
    }
   ],
   "source": [
    "pd.crosstab(films.Movie,films.Clean)"
   ]
  },
  {
   "cell_type": "code",
   "execution_count": 35,
   "id": "a8780e57",
   "metadata": {},
   "outputs": [
    {
     "data": {
      "text/html": [
       "<div>\n",
       "<style scoped>\n",
       "    .dataframe tbody tr th:only-of-type {\n",
       "        vertical-align: middle;\n",
       "    }\n",
       "\n",
       "    .dataframe tbody tr th {\n",
       "        vertical-align: top;\n",
       "    }\n",
       "\n",
       "    .dataframe thead th {\n",
       "        text-align: right;\n",
       "    }\n",
       "</style>\n",
       "<table border=\"1\" class=\"dataframe\">\n",
       "  <thead>\n",
       "    <tr style=\"text-align: right;\">\n",
       "      <th>Gender</th>\n",
       "      <th>1</th>\n",
       "      <th>2</th>\n",
       "    </tr>\n",
       "    <tr>\n",
       "      <th>Movie</th>\n",
       "      <th></th>\n",
       "      <th></th>\n",
       "    </tr>\n",
       "  </thead>\n",
       "  <tbody>\n",
       "    <tr>\n",
       "      <th>Ferris Buellers Day Off</th>\n",
       "      <td>13</td>\n",
       "      <td>124</td>\n",
       "    </tr>\n",
       "    <tr>\n",
       "      <th>Old School</th>\n",
       "      <td>0</td>\n",
       "      <td>32</td>\n",
       "    </tr>\n",
       "    <tr>\n",
       "      <th>Willy Wonka</th>\n",
       "      <td>0</td>\n",
       "      <td>161</td>\n",
       "    </tr>\n",
       "  </tbody>\n",
       "</table>\n",
       "</div>"
      ],
      "text/plain": [
       "Gender                    1    2\n",
       "Movie                           \n",
       "Ferris Buellers Day Off  13  124\n",
       "Old School                0   32\n",
       "Willy Wonka               0  161"
      ]
     },
     "execution_count": 35,
     "metadata": {},
     "output_type": "execute_result"
    }
   ],
   "source": [
    "pd.crosstab(films.Movie,films.Gender)"
   ]
  },
  {
   "cell_type": "code",
   "execution_count": 36,
   "id": "45507fea",
   "metadata": {},
   "outputs": [
    {
     "data": {
      "text/html": [
       "<div>\n",
       "<style scoped>\n",
       "    .dataframe tbody tr th:only-of-type {\n",
       "        vertical-align: middle;\n",
       "    }\n",
       "\n",
       "    .dataframe tbody tr th {\n",
       "        vertical-align: top;\n",
       "    }\n",
       "\n",
       "    .dataframe thead th {\n",
       "        text-align: right;\n",
       "    }\n",
       "</style>\n",
       "<table border=\"1\" class=\"dataframe\">\n",
       "  <thead>\n",
       "    <tr style=\"text-align: right;\">\n",
       "      <th>Marital_Status</th>\n",
       "      <th>1</th>\n",
       "      <th>2</th>\n",
       "    </tr>\n",
       "    <tr>\n",
       "      <th>Movie</th>\n",
       "      <th></th>\n",
       "      <th></th>\n",
       "    </tr>\n",
       "  </thead>\n",
       "  <tbody>\n",
       "    <tr>\n",
       "      <th>Ferris Buellers Day Off</th>\n",
       "      <td>18</td>\n",
       "      <td>119</td>\n",
       "    </tr>\n",
       "    <tr>\n",
       "      <th>Old School</th>\n",
       "      <td>0</td>\n",
       "      <td>32</td>\n",
       "    </tr>\n",
       "    <tr>\n",
       "      <th>Willy Wonka</th>\n",
       "      <td>0</td>\n",
       "      <td>161</td>\n",
       "    </tr>\n",
       "  </tbody>\n",
       "</table>\n",
       "</div>"
      ],
      "text/plain": [
       "Marital_Status            1    2\n",
       "Movie                           \n",
       "Ferris Buellers Day Off  18  119\n",
       "Old School                0   32\n",
       "Willy Wonka               0  161"
      ]
     },
     "execution_count": 36,
     "metadata": {},
     "output_type": "execute_result"
    }
   ],
   "source": [
    "pd.crosstab(films.Movie,films.Marital_Status)"
   ]
  },
  {
   "cell_type": "code",
   "execution_count": 37,
   "id": "18783c0e",
   "metadata": {},
   "outputs": [
    {
     "data": {
      "text/html": [
       "<div>\n",
       "<style scoped>\n",
       "    .dataframe tbody tr th:only-of-type {\n",
       "        vertical-align: middle;\n",
       "    }\n",
       "\n",
       "    .dataframe tbody tr th {\n",
       "        vertical-align: top;\n",
       "    }\n",
       "\n",
       "    .dataframe thead th {\n",
       "        text-align: right;\n",
       "    }\n",
       "</style>\n",
       "<table border=\"1\" class=\"dataframe\">\n",
       "  <thead>\n",
       "    <tr style=\"text-align: right;\">\n",
       "      <th>Overall</th>\n",
       "      <th>1.0</th>\n",
       "      <th>2.0</th>\n",
       "      <th>3.0</th>\n",
       "      <th>4.0</th>\n",
       "      <th>5.0</th>\n",
       "    </tr>\n",
       "    <tr>\n",
       "      <th>Movie</th>\n",
       "      <th></th>\n",
       "      <th></th>\n",
       "      <th></th>\n",
       "      <th></th>\n",
       "      <th></th>\n",
       "    </tr>\n",
       "  </thead>\n",
       "  <tbody>\n",
       "    <tr>\n",
       "      <th>Ferris Buellers Day Off</th>\n",
       "      <td>59</td>\n",
       "      <td>71</td>\n",
       "      <td>4</td>\n",
       "      <td>1</td>\n",
       "      <td>2</td>\n",
       "    </tr>\n",
       "    <tr>\n",
       "      <th>Old School</th>\n",
       "      <td>21</td>\n",
       "      <td>10</td>\n",
       "      <td>0</td>\n",
       "      <td>0</td>\n",
       "      <td>1</td>\n",
       "    </tr>\n",
       "    <tr>\n",
       "      <th>Willy Wonka</th>\n",
       "      <td>71</td>\n",
       "      <td>81</td>\n",
       "      <td>8</td>\n",
       "      <td>0</td>\n",
       "      <td>1</td>\n",
       "    </tr>\n",
       "  </tbody>\n",
       "</table>\n",
       "</div>"
      ],
      "text/plain": [
       "Overall                  1.0  2.0  3.0  4.0  5.0\n",
       "Movie                                           \n",
       "Ferris Buellers Day Off   59   71    4    1    2\n",
       "Old School                21   10    0    0    1\n",
       "Willy Wonka               71   81    8    0    1"
      ]
     },
     "execution_count": 37,
     "metadata": {},
     "output_type": "execute_result"
    }
   ],
   "source": [
    "pd.crosstab(films.Movie,films.Overall)"
   ]
  },
  {
   "cell_type": "markdown",
   "id": "7f0a1d75",
   "metadata": {},
   "source": [
    "## d.In what media outlet(s) should the film series be advertised?"
   ]
  },
  {
   "cell_type": "code",
   "execution_count": 38,
   "id": "217be6e5",
   "metadata": {},
   "outputs": [
    {
     "data": {
      "text/html": [
       "<div>\n",
       "<style scoped>\n",
       "    .dataframe tbody tr th:only-of-type {\n",
       "        vertical-align: middle;\n",
       "    }\n",
       "\n",
       "    .dataframe tbody tr th {\n",
       "        vertical-align: top;\n",
       "    }\n",
       "\n",
       "    .dataframe thead th {\n",
       "        text-align: right;\n",
       "    }\n",
       "</style>\n",
       "<table border=\"1\" class=\"dataframe\">\n",
       "  <thead>\n",
       "    <tr style=\"text-align: right;\">\n",
       "      <th>Hear_About</th>\n",
       "      <th>1</th>\n",
       "      <th>1,5</th>\n",
       "      <th>2</th>\n",
       "      <th>2,5</th>\n",
       "      <th>3</th>\n",
       "      <th>3,4</th>\n",
       "      <th>3,5</th>\n",
       "      <th>4</th>\n",
       "      <th>4,5</th>\n",
       "      <th>5</th>\n",
       "      <th>5,4</th>\n",
       "    </tr>\n",
       "    <tr>\n",
       "      <th>Movie</th>\n",
       "      <th></th>\n",
       "      <th></th>\n",
       "      <th></th>\n",
       "      <th></th>\n",
       "      <th></th>\n",
       "      <th></th>\n",
       "      <th></th>\n",
       "      <th></th>\n",
       "      <th></th>\n",
       "      <th></th>\n",
       "      <th></th>\n",
       "    </tr>\n",
       "  </thead>\n",
       "  <tbody>\n",
       "    <tr>\n",
       "      <th>Ferris Buellers Day Off</th>\n",
       "      <td>13</td>\n",
       "      <td>1</td>\n",
       "      <td>4</td>\n",
       "      <td>1</td>\n",
       "      <td>4</td>\n",
       "      <td>0</td>\n",
       "      <td>0</td>\n",
       "      <td>17</td>\n",
       "      <td>1</td>\n",
       "      <td>96</td>\n",
       "      <td>0</td>\n",
       "    </tr>\n",
       "    <tr>\n",
       "      <th>Old School</th>\n",
       "      <td>1</td>\n",
       "      <td>0</td>\n",
       "      <td>4</td>\n",
       "      <td>0</td>\n",
       "      <td>1</td>\n",
       "      <td>1</td>\n",
       "      <td>0</td>\n",
       "      <td>1</td>\n",
       "      <td>0</td>\n",
       "      <td>24</td>\n",
       "      <td>0</td>\n",
       "    </tr>\n",
       "    <tr>\n",
       "      <th>Willy Wonka</th>\n",
       "      <td>8</td>\n",
       "      <td>0</td>\n",
       "      <td>4</td>\n",
       "      <td>1</td>\n",
       "      <td>9</td>\n",
       "      <td>1</td>\n",
       "      <td>1</td>\n",
       "      <td>23</td>\n",
       "      <td>0</td>\n",
       "      <td>113</td>\n",
       "      <td>1</td>\n",
       "    </tr>\n",
       "  </tbody>\n",
       "</table>\n",
       "</div>"
      ],
      "text/plain": [
       "Hear_About                1  1,5  2  2,5  3  3,4  3,5   4  4,5    5  5,4\n",
       "Movie                                                                   \n",
       "Ferris Buellers Day Off  13    1  4    1  4    0    0  17    1   96    0\n",
       "Old School                1    0  4    0  1    1    0   1    0   24    0\n",
       "Willy Wonka               8    0  4    1  9    1    1  23    0  113    1"
      ]
     },
     "execution_count": 38,
     "metadata": {},
     "output_type": "execute_result"
    }
   ],
   "source": [
    "to_add=pd.crosstab(films.Movie,films.Hear_About)\n",
    "to_add"
   ]
  },
  {
   "cell_type": "code",
   "execution_count": 51,
   "id": "db72ce39",
   "metadata": {},
   "outputs": [
    {
     "data": {
      "text/plain": [
       "'5'"
      ]
     },
     "execution_count": 51,
     "metadata": {},
     "output_type": "execute_result"
    }
   ],
   "source": [
    "mode=films.Hear_About.mode()[0]\n",
    "mode"
   ]
  },
  {
   "cell_type": "code",
   "execution_count": 52,
   "id": "ddb09150",
   "metadata": {},
   "outputs": [
    {
     "name": "stdout",
     "output_type": "stream",
     "text": [
      "Film Series should be advertised more by word-of-mouth\n"
     ]
    }
   ],
   "source": [
    "if mode==1:\n",
    "    print('Film Series should be advertised more in Television')\n",
    "elif mode==2:\n",
    "    print('Film Series should be advertised more in Newspaper')\n",
    "elif mode==3:\n",
    "    print('Film Series should be advertised more in Radio')\n",
    "elif mode==4:\n",
    "    print('Film Series should be advertised more in Website')\n",
    "else:\n",
    "    print('Film Series should be advertised more by word-of-mouth')"
   ]
  },
  {
   "cell_type": "code",
   "execution_count": null,
   "id": "de00635c",
   "metadata": {},
   "outputs": [],
   "source": []
  }
 ],
 "metadata": {
  "kernelspec": {
   "display_name": "Python 3 (ipykernel)",
   "language": "python",
   "name": "python3"
  },
  "language_info": {
   "codemirror_mode": {
    "name": "ipython",
    "version": 3
   },
   "file_extension": ".py",
   "mimetype": "text/x-python",
   "name": "python",
   "nbconvert_exporter": "python",
   "pygments_lexer": "ipython3",
   "version": "3.9.7"
  }
 },
 "nbformat": 4,
 "nbformat_minor": 5
}
