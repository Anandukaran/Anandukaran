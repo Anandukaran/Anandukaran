{
 "cells": [
  {
   "cell_type": "markdown",
   "metadata": {},
   "source": [
    "## Python Basic Programming Exercises"
   ]
  },
  {
   "cell_type": "raw",
   "metadata": {},
   "source": [
    "Q1: What is the output of following expression\n",
    "    5 + 4 * 9 % (3 + 1) / 6 - 1"
   ]
  },
  {
   "cell_type": "code",
   "execution_count": 3,
   "metadata": {},
   "outputs": [
    {
     "data": {
      "text/plain": [
       "4.0"
      ]
     },
     "execution_count": 3,
     "metadata": {},
     "output_type": "execute_result"
    }
   ],
   "source": [
    " 5 + 4 * 9 % (3 + 1) / 6 - 1"
   ]
  },
  {
   "cell_type": "raw",
   "metadata": {},
   "source": [
    "Q2: Write a program to check if a Number is Odd or Even. Take number as a input from user at runtime."
   ]
  },
  {
   "cell_type": "code",
   "execution_count": 24,
   "metadata": {},
   "outputs": [
    {
     "name": "stdout",
     "output_type": "stream",
     "text": [
      "enter the number:345\n",
      "345 is an odd number\n"
     ]
    }
   ],
   "source": [
    "num=int(input('enter the number:'))\n",
    "\n",
    "if num%2==0:\n",
    "    print(f'{num} is an even number')\n",
    "else:\n",
    "    print(f'{num} is an odd number')\n",
    "    "
   ]
  },
  {
   "cell_type": "raw",
   "metadata": {},
   "source": [
    "Q3: Write a program to display the multiplication table by taking a number as input. \n",
    "    [Hint : Use print statement inside of a loop]    \n",
    "    "
   ]
  },
  {
   "cell_type": "code",
   "execution_count": 49,
   "metadata": {},
   "outputs": [
    {
     "name": "stdout",
     "output_type": "stream",
     "text": [
      "enter the number:2\n",
      "1 times 2 is 2\n",
      "2 times 2 is 4\n",
      "3 times 2 is 6\n",
      "4 times 2 is 8\n",
      "5 times 2 is 10\n",
      "6 times 2 is 12\n",
      "7 times 2 is 14\n",
      "8 times 2 is 16\n",
      "9 times 2 is 18\n",
      "10 times 2 is 20\n"
     ]
    }
   ],
   "source": [
    "num=int(input('enter the number:'))\n",
    "x=1\n",
    "while x<=10:\n",
    "    print(f'{x} times {num} is',num*x)\n",
    "    x=x+1"
   ]
  },
  {
   "cell_type": "raw",
   "metadata": {},
   "source": [
    "Q4: Write a program which will find all numbers between 2000 and 3200 which are divisible by 7 \n",
    "    but are not a multiple of 5.\n",
    " \n",
    "Note: The numbers obtained should be printed in a comma-separated sequence on a single line."
   ]
  },
  {
   "cell_type": "code",
   "execution_count": 61,
   "metadata": {},
   "outputs": [
    {
     "name": "stdout",
     "output_type": "stream",
     "text": [
      "2002,2009,2016,2023,2037,2044,2051,2058,2072,2079,2086,2093,2107,2114,2121,2128,2142,2149,2156,2163,2177,2184,2191,2198,2212,2219,2226,2233,2247,2254,2261,2268,2282,2289,2296,2303,2317,2324,2331,2338,2352,2359,2366,2373,2387,2394,2401,2408,2422,2429,2436,2443,2457,2464,2471,2478,2492,2499,2506,2513,2527,2534,2541,2548,2562,2569,2576,2583,2597,2604,2611,2618,2632,2639,2646,2653,2667,2674,2681,2688,2702,2709,2716,2723,2737,2744,2751,2758,2772,2779,2786,2793,2807,2814,2821,2828,2842,2849,2856,2863,2877,2884,2891,2898,2912,2919,2926,2933,2947,2954,2961,2968,2982,2989,2996,3003,3017,3024,3031,3038,3052,3059,3066,3073,3087,3094,3101,3108,3122,3129,3136,3143,3157,3164,3171,3178,3192,3199\n"
     ]
    }
   ],
   "source": [
    "z=[]\n",
    "for x in range(2000,3201):\n",
    "    if x%7==0 and x%5!=0:\n",
    "        z.append(str(x))\n",
    "w=\",\".join(z)\n",
    "print(w)\n",
    "       \n",
    "        \n",
    "        \n"
   ]
  },
  {
   "cell_type": "raw",
   "metadata": {},
   "source": [
    "Q5: Count the elements of each datatype inside the list and display in output\n",
    "    [2, 3, 'Py', '10', 1, 'SQL', 5.5, True, 3, 'John', None, 7]    "
   ]
  },
  {
   "cell_type": "code",
   "execution_count": 56,
   "metadata": {},
   "outputs": [
    {
     "name": "stdout",
     "output_type": "stream",
     "text": [
      "there are 5  integers in the list\n",
      "there are 4  strings in the list\n",
      "there is 1  booleans in the list\n",
      "there is 1  float in the list\n",
      "there is 1  none in the list\n"
     ]
    }
   ],
   "source": [
    "x=[2, 3, 'Py', '10', 1, 'SQL', 5.5, True, 3, 'John', None, 7]    \n",
    "l=[i for i in x if type(i)==int]\n",
    "print(f'there are {len(l)}  integers in the list')\n",
    "x=[2, 3, 'Py', '10', 1, 'SQL', 5.5, True, 3, 'John', None, 7]    \n",
    "l=[i for i in x if type(i)==str]\n",
    "print(f'there are {len(l)}  strings in the list')\n",
    "x=[2, 3, 'Py', '10', 1, 'SQL', 5.5, True, 3, 'John', None, 7]    \n",
    "l=[i for i in x if type(i)==bool]\n",
    "print(f'there is {len(l)}  booleans in the list')\n",
    "x=[2, 3, 'Py', '10', 1, 'SQL', 5.5, True, 3, 'John', None, 7]    \n",
    "l=[i for i in x if type(i)==float]\n",
    "print(f'there is {len(l)}  float in the list')\n",
    "x=[2, 3, 'Py', '10', 1, 'SQL', 5.5, True, 3, 'John', None, 7]    \n",
    "l=[i for i in x if type(i) not in (int,str,bool,float)]\n",
    "print(f'there is {len(l)}  none in the list')"
   ]
  },
  {
   "cell_type": "raw",
   "metadata": {},
   "source": [
    "Q6: Add all values from the list with numeric datatypes \n",
    "    [2, 3, 'Py', '10', 1, 'SQL', 5.5, True, 3, 'John', None, 7] "
   ]
  },
  {
   "cell_type": "code",
   "execution_count": 62,
   "metadata": {},
   "outputs": [
    {
     "name": "stdout",
     "output_type": "stream",
     "text": [
      "22.5\n"
     ]
    }
   ],
   "source": [
    "x=[2, 3, 'Py', '10', 1, 'SQL', 5.5, True, 3, 'John', None, 7] \n",
    "integers=[i for i in x if type(i) in (int,float,bool)]\n",
    "print(sum(integers))\n"
   ]
  },
  {
   "cell_type": "raw",
   "metadata": {},
   "source": [
    "Q7: Concat all str datatypes with hyphen as a delimiter\n",
    "    [2, 3, 'Py', '10', 1, 'SQL', 5.5, True, 3, 'John', None, 7] "
   ]
  },
  {
   "cell_type": "code",
   "execution_count": 27,
   "metadata": {},
   "outputs": [
    {
     "name": "stdout",
     "output_type": "stream",
     "text": [
      "Py-10-SQL-John\n"
     ]
    }
   ],
   "source": [
    "x= [2, 3, 'Py', '10', 1, 'SQL', 5.5, True, 3, 'John', None, 7] \n",
    "str7 = '-'.join([i for i in x if type(i)==str])\n",
    "print(str7)\n",
    "\n",
    "\n",
    "\n"
   ]
  },
  {
   "cell_type": "raw",
   "metadata": {},
   "source": [
    "Q8: Write a UDF that takes list as input and returns sum of all numbers \n",
    "    (exclude bool) and count of all str \n",
    "    [2, 3, 'Py', '10', 1, 'SQL', 5.5, True, 3, 'John', None, 7] \n",
    "    \n",
    "Hint:\n",
    "-----\n",
    "def my_func:\n",
    "    # your code\n",
    "        \n",
    "my_func(l1)\n",
    "# output --> {'Sum': xxx, 'Count_of_Strs': xxx}"
   ]
  },
  {
   "cell_type": "code",
   "execution_count": 28,
   "metadata": {},
   "outputs": [
    {
     "data": {
      "text/plain": [
       "{'sum': 21.5, 'count_of_strs': 4}"
      ]
     },
     "execution_count": 28,
     "metadata": {},
     "output_type": "execute_result"
    }
   ],
   "source": [
    "def myfunc(l):\n",
    "    add=sum([i for i in l if type(i)==int or type(i)==float])\n",
    "    count=len([i for i in l if type(i)==str])\n",
    "    return({'sum':add,'count_of_strs':count})\n",
    "myfunc([2, 3, 'Py', '10', 1, 'SQL', 5.5, True, 3, 'John', None, 7] )    "
   ]
  },
  {
   "cell_type": "markdown",
   "metadata": {},
   "source": [
    "Q9: Get only odd numbers from the following list and store the numbers in new list\n",
    "    li = [5, 7, 22, 97, 54, 62, 77, 23, 73, 61]\n",
    "\n",
    "    i. Use loops to get the answer\n",
    "   ii. Use list comprehensions\n",
    "  iii. Use lambda function with filter"
   ]
  },
  {
   "cell_type": "code",
   "execution_count": 44,
   "metadata": {},
   "outputs": [
    {
     "name": "stdout",
     "output_type": "stream",
     "text": [
      "USING LIST COMPREHENSION\n",
      "[5, 7, 97, 77, 23, 73, 61]\n",
      "________********_________\n",
      "USING FOR LOOP\n",
      "[5, 7, 97, 77, 23, 73, 61]\n",
      "________********_________\n",
      "USING LAMBDA AND FILTER \n",
      "[5, 7, 97, 77, 23, 73, 61]\n"
     ]
    }
   ],
   "source": [
    "print('USING LIST COMPREHENSION')\n",
    "\n",
    "li=[5, 7, 22, 97, 54, 62, 77, 23, 73, 61]\n",
    "odd1=[i for i in l if i%2!=0]\n",
    "print(odd1)\n",
    "\n",
    "\n",
    "print('________********_________')\n",
    "\n",
    "\n",
    "print('USING FOR LOOP')\n",
    "\n",
    "odd2=[]\n",
    "for i in li:\n",
    "   \n",
    "    if i%2!=0:\n",
    "        odd2.append(i)\n",
    "print(odd2 )\n",
    "print('________********_________')\n",
    "\n",
    "print('USING LAMBDA AND FILTER ')\n",
    "odd3 = list(filter(lambda x: (x % 2 != 0), li))\n",
    "print(odd3)"
   ]
  },
  {
   "cell_type": "raw",
   "metadata": {},
   "source": [
    "Q10: Write a UDF to return the descriptives [sum, count, min, mean, max] for a list of n number of input \n",
    "    numbers."
   ]
  },
  {
   "cell_type": "code",
   "execution_count": 61,
   "metadata": {},
   "outputs": [
    {
     "data": {
      "text/plain": [
       "[55, 10, 1, 10, 5.5]"
      ]
     },
     "execution_count": 61,
     "metadata": {},
     "output_type": "execute_result"
    }
   ],
   "source": [
    "def myfunc(l3):\n",
    "    add=sum(l3)\n",
    "    count=len(l3)\n",
    "    minimum=min(l3)\n",
    "    maximum=max(l3)\n",
    "    mean=add/count\n",
    "    return [add,count,minimum,maximum,mean]\n",
    "myfunc([1,2,3,4,5,6,7,8,9,10])    \n"
   ]
  },
  {
   "cell_type": "raw",
   "metadata": {},
   "source": [
    " Q11: Write an udf to calculate the area of different shapes\n",
    "\n",
    "Take shape and dimensions as arguments to udf as follows : \n",
    "\n",
    "1. square which has side\n",
    "2. rectangle which has length and width\n",
    "3. circle which has radius\n",
    "\n",
    "The shape should be a positional argument and it's dimensions are taken as kwargs\n",
    "\n",
    "Perform proper validation for the user inputs and then calculate area.\n",
    "\n",
    "E.g. if shape is square, ensure kwargs has \"side\" and if so, then you may return the area, else display appropriate error message like \"Please enter 'side' for a square\""
   ]
  },
  {
   "cell_type": "code",
   "execution_count": 12,
   "metadata": {},
   "outputs": [
    {
     "data": {
      "text/plain": [
       "12"
      ]
     },
     "execution_count": 12,
     "metadata": {},
     "output_type": "execute_result"
    }
   ],
   "source": [
    "\n",
    "def calc_area(shape,**kwargs1):\n",
    "    result=1\n",
    "    for k,v in kwargs1.items() :\n",
    "    \n",
    "        \n",
    "        if shape=='square':\n",
    "            result=(result*v**2)\n",
    "        elif shape=='circle' :\n",
    "            result=result*3.14*v**2       \n",
    "        elif shape=='rectangle' and len(kwargs1)==2:\n",
    "            result=(result*v)\n",
    "            \n",
    "    return result\n",
    "calc_area('rectangle',l=3,b=4)\n",
    "        \n",
    "        "
   ]
  },
  {
   "cell_type": "raw",
   "metadata": {},
   "source": [
    "\n",
    "Q12: Write a UDF to reconcile the values within two lists.\n",
    "    l1 = ['January', 'February', 'March', 'May', 'June', 'September', 'December']\n",
    "    l2 = ['January', 'February', 'April', 'June', 'October', 'December']\n",
    "\n",
    "Hint:\n",
    "-----\n",
    "def func(l1, l2):\n",
    "    your code here...\n",
    "    \n",
    "Output:\n",
    "{'Matched': ['January', 'February', 'June', 'December'],\n",
    "    'Only in l1': ['March', 'May', 'September'],\n",
    "        'Only in l2': ['April', 'October']}"
   ]
  },
  {
   "cell_type": "code",
   "execution_count": 19,
   "metadata": {
    "scrolled": true
   },
   "outputs": [
    {
     "data": {
      "text/plain": [
       "{'matched': ['December', 'February', 'January', 'June'],\n",
       " 'only in l1': ['March', 'May', 'September'],\n",
       " 'only in l2': ['April', 'October']}"
      ]
     },
     "execution_count": 19,
     "metadata": {},
     "output_type": "execute_result"
    }
   ],
   "source": [
    "l1 = ['January', 'February', 'March', 'May', 'June', 'September', 'December']\n",
    "l2 = ['January', 'February', 'April', 'June', 'October', 'December']\n",
    "s1=set(l1)\n",
    "s2=set(l2)\n",
    "def my_func(a,b):\n",
    "    a=list(s1.intersection(s2))\n",
    "    b=list(s1-(s1.intersection(s2)))\n",
    "    c=list(s2-(s1.intersection(s2)))\n",
    "    return {'matched':a,'only in l1':b,'only in l2':c}\n",
    "my_func(s1,s2)"
   ]
  },
  {
   "cell_type": "raw",
   "metadata": {
    "collapsed": true
   },
   "source": [
    "Q13: write a UDF to check if a number is prime or not."
   ]
  },
  {
   "cell_type": "code",
   "execution_count": 14,
   "metadata": {},
   "outputs": [
    {
     "name": "stdout",
     "output_type": "stream",
     "text": [
      "it is not a prime number\n"
     ]
    }
   ],
   "source": [
    "def prime_func(a):\n",
    "    for i in range(2,int(a/2)+1):\n",
    "        if a%i==0:\n",
    "            print('it is not a prime number')\n",
    "            break\n",
    "        \n",
    "    else:\n",
    "        print('it is a prime number')\n",
    "            \n",
    "prime_func(123)            "
   ]
  },
  {
   "cell_type": "raw",
   "metadata": {
    "collapsed": true
   },
   "source": [
    "Q14. Write a program which can compute the factorial of a given numbers. \n",
    "#   The results should be printed in a comma-separated sequence on a single line. \n",
    "# input() function can be used for getting user(console) input\n",
    "\n",
    "\n",
    "#Suppose the input is supplied to the program:  8  \n",
    "#Then, the output should be:  40320 \n",
    "#Hints: In case of input data being supplied to the question, it should be assumed to be a console input. \n"
   ]
  },
  {
   "cell_type": "code",
   "execution_count": 204,
   "metadata": {},
   "outputs": [
    {
     "name": "stdout",
     "output_type": "stream",
     "text": [
      "Enter the Number: 8\n"
     ]
    },
    {
     "data": {
      "text/plain": [
       "40320"
      ]
     },
     "execution_count": 204,
     "metadata": {},
     "output_type": "execute_result"
    }
   ],
   "source": [
    "\n",
    "x = (input('Enter the Number: '))\n",
    "def func(x):\n",
    "    fact = 1 \n",
    "    for i in range(1,int(x)+1):\n",
    "        fact = i * fact\n",
    "        y=fact\n",
    "   \n",
    "    return(y)\n",
    "func(x)        \n",
    "\n",
    "\n",
    "\n",
    "\n"
   ]
  },
  {
   "cell_type": "raw",
   "metadata": {
    "collapsed": true
   },
   "source": [
    "Q15. With a given integral number n, write a program to generate a dictionary that contains (i, i*i) such that is an integral number between 1 and n (both included). and then the program should print the dictionary.\n",
    "\n",
    "#Suppose the following input is supplied to the program: 8\n",
    "#Then, the output should be: {1: 1, 2: 4, 3: 9, 4: 16, 5: 25, 6: 36, 7: 49, 8: 64}\n",
    "#Hints: In case of input data being supplied to the question, it should be assumed to be a console input. Consider using dict()\n",
    "\n"
   ]
  },
  {
   "cell_type": "code",
   "execution_count": 80,
   "metadata": {},
   "outputs": [
    {
     "name": "stdout",
     "output_type": "stream",
     "text": [
      "enter the number8\n",
      "{1: 1, 2: 4, 3: 9, 4: 16, 5: 25, 6: 36, 7: 49, 8: 64}\n"
     ]
    }
   ],
   "source": [
    "num=int(input('enter the number'))\n",
    "dict1={}\n",
    "for i in range(1,num+1):\n",
    "    dict1[i]=i**2\n",
    "print(dict1)"
   ]
  },
  {
   "cell_type": "raw",
   "metadata": {
    "collapsed": true
   },
   "source": [
    "Q16. Write a program which accepts a sequence of comma-separated numbers from console and generate a list and a tuple which contains every number.\n",
    "#Suppose the following input is supplied to the program: 34,67,55,33,12,98\n",
    "    #Then, the output should be: ['34', '67', '55', '33', '12', '98'] ('34', '67', '55', '33', '12', '98')\n",
    "\n",
    "#Hints: In case of input data being supplied to the question, it should be assumed to be a console input. you may use tuple() method to convert list to tuple\n"
   ]
  },
  {
   "cell_type": "code",
   "execution_count": 79,
   "metadata": {},
   "outputs": [
    {
     "name": "stdout",
     "output_type": "stream",
     "text": [
      "34,67,55,33,12,98\n",
      "['34', '67', '55', '33', '12', '98'] ('34', '67', '55', '33', '12', '98')\n"
     ]
    }
   ],
   "source": [
    "data=input()\n",
    "list1=data.split(\",\")\n",
    "string=(str(i) for i in  list1)\n",
    "y=tuple(string)\n",
    "print(list1,y)\n",
    "\n",
    "\n"
   ]
  },
  {
   "cell_type": "raw",
   "metadata": {
    "collapsed": true
   },
   "source": [
    "yQ17. Write a program that accepts a comma separated sequence of words as input and \n",
    "# prints the words in a comma-separated sequence after sorting them alphabetically.\n",
    "\n",
    "# Suppose the following input is supplied to the program: without,hello,bag,world\n",
    "# Then, the output should be: bag,hello,without,world\n",
    "\n",
    "#Hints: In case of input data being supplied to the question, it should be assumed to be a console input.\n"
   ]
  },
  {
   "cell_type": "code",
   "execution_count": 115,
   "metadata": {},
   "outputs": [
    {
     "name": "stdout",
     "output_type": "stream",
     "text": [
      "without,hello,bag,world\n",
      "bag,hello,without,world\n"
     ]
    }
   ],
   "source": [
    "data=input()\n",
    "list1=data.split(\",\")\n",
    "l1=sorted(list1)\n",
    "string=\",\".join(l1)\n",
    "print(string)\n"
   ]
  },
  {
   "cell_type": "raw",
   "metadata": {
    "collapsed": true
   },
   "source": [
    "Q18. Write a program that accepts a sequence of whitespace separated words \n",
    "# as input and prints the words after removing all duplicate words and sorting them alphanumerically.\n",
    "# Suppose the following input is supplied to the program: hello world and practice makes perfect and hello world again\n",
    "# Then, the output should be: again and hello makes perfect practice world\n",
    "\n",
    "#Hints: In case of input data being supplied to the question, it should be assumed to be a console input.\n",
    "#We use set container to remove duplicated data automatically and then use sorted() to sort the data.\n"
   ]
  },
  {
   "cell_type": "code",
   "execution_count": 20,
   "metadata": {},
   "outputs": [
    {
     "name": "stdout",
     "output_type": "stream",
     "text": [
      "hello world and practice makes perfect and hello world again\n",
      "again and hello makes perfect practice world\n"
     ]
    }
   ],
   "source": [
    "data=input()\n",
    "list1=data.split()\n",
    "set1=set(list1)\n",
    "s2=sorted(set1)\n",
    "print(\" \".join(s2))\n"
   ]
  },
  {
   "cell_type": "raw",
   "metadata": {
    "collapsed": true
   },
   "source": [
    "Q19. Write a program that accepts a sentence and calculate the number of upper case \n",
    "# letters and lower case letters.\n",
    "#Suppose the following input is supplied to the program: Hello world!\n",
    "#Then, the output should be: UPPER CASE 1 LOWER CASE 9\n",
    "\n",
    "#Hints: In case of input data being supplied to the question, it should be assumed to be a console input.\n"
   ]
  },
  {
   "cell_type": "code",
   "execution_count": 134,
   "metadata": {},
   "outputs": [
    {
     "name": "stdout",
     "output_type": "stream",
     "text": [
      "Hello world!\n",
      "UPPER CASE 1 LOWER CASE 9 \n"
     ]
    }
   ],
   "source": [
    "data=input()\n",
    "U=0\n",
    "L=0\n",
    "for i in  data:\n",
    "    \n",
    "    if i.isupper():\n",
    "        U=U+1\n",
    "    elif i.islower():\n",
    "        L=L+1\n",
    "    else:\n",
    "        pass\n",
    "print(f'UPPER CASE {U} LOWER CASE {L} ')\n",
    "\n",
    "        "
   ]
  },
  {
   "cell_type": "raw",
   "metadata": {
    "collapsed": true
   },
   "source": [
    "Q20. Write a program that takes a string and returns reversed string. i.e. if input is \"abcd123\" output should be \"321dcba\""
   ]
  },
  {
   "cell_type": "code",
   "execution_count": 84,
   "metadata": {},
   "outputs": [
    {
     "name": "stdout",
     "output_type": "stream",
     "text": [
      "enter the value \"abcd123\"\n",
      "\"321dcba\"\n"
     ]
    }
   ],
   "source": [
    "name=input(\"enter the value \")\n",
    "print((name[::-1]))\n",
    "    \n"
   ]
  },
  {
   "cell_type": "code",
   "execution_count": null,
   "metadata": {},
   "outputs": [],
   "source": []
  },
  {
   "cell_type": "code",
   "execution_count": null,
   "metadata": {},
   "outputs": [],
   "source": []
  },
  {
   "cell_type": "code",
   "execution_count": null,
   "metadata": {},
   "outputs": [],
   "source": []
  }
 ],
 "metadata": {
  "kernelspec": {
   "display_name": "Python 3 (ipykernel)",
   "language": "python",
   "name": "python3"
  },
  "language_info": {
   "codemirror_mode": {
    "name": "ipython",
    "version": 3
   },
   "file_extension": ".py",
   "mimetype": "text/x-python",
   "name": "python",
   "nbconvert_exporter": "python",
   "pygments_lexer": "ipython3",
   "version": "3.9.7"
  },
  "varInspector": {
   "cols": {
    "lenName": 16,
    "lenType": 16,
    "lenVar": 40
   },
   "kernels_config": {
    "python": {
     "delete_cmd_postfix": "",
     "delete_cmd_prefix": "del ",
     "library": "var_list.py",
     "varRefreshCmd": "print(var_dic_list())"
    },
    "r": {
     "delete_cmd_postfix": ") ",
     "delete_cmd_prefix": "rm(",
     "library": "var_list.r",
     "varRefreshCmd": "cat(var_dic_list()) "
    }
   },
   "types_to_exclude": [
    "module",
    "function",
    "builtin_function_or_method",
    "instance",
    "_Feature"
   ],
   "window_display": false
  }
 },
 "nbformat": 4,
 "nbformat_minor": 2
}
